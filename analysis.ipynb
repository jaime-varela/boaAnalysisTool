{
 "cells": [
  {
   "cell_type": "markdown",
   "metadata": {},
   "source": [
    "## Imports"
   ]
  },
  {
   "cell_type": "code",
   "execution_count": 1,
   "metadata": {},
   "outputs": [],
   "source": [
    "from analasisAPI.subscriptionFinder import isDFweeklySchedule\n",
    "from globals.column_names import DATE_COL\n",
    "from analasisAPI.fileLoader import LoadFile\n",
    "from analasisAPI.queries import filterDataFrameByRegex\n",
    "from analasisAPI.queries import filterDataFrameByDate\n",
    "from analasisAPI.queries import filterDataFrameByAmount\n",
    "from analasisAPI.queries import queryBankDataFrame\n",
    "from analasisAPI.plotUtilities import plotDataFrameTimeSeriesCol\n",
    "import datetime\n",
    "\n",
    "from classification.rule_based_classfier import classify_statement_from_rule_set\n",
    "from classification.classification_report_utils import classification_pi_chart\n",
    "\n",
    "import pandas as pd\n",
    "import matplotlib.pyplot as plt\n"
   ]
  },
  {
   "cell_type": "markdown",
   "metadata": {},
   "source": [
    "## Loading"
   ]
  },
  {
   "cell_type": "code",
   "execution_count": 6,
   "metadata": {},
   "outputs": [
    {
     "name": "stdout",
     "output_type": "stream",
     "text": [
      "        Date                   Description   Amount  Running Bal.  \\\n",
      "0 2022-09-29  TST* HARRY'S BAR &amp; GRILL   -32.49        -32.49   \n",
      "1 2022-09-27      SQ *TOTTO RAMEN ASSEMBLY   -70.62       -103.11   \n",
      "2 2022-09-25            AIRBNB  HMC5DRBKTF  -947.03      -1050.14   \n",
      "3 2022-09-18       Payment Thank You - Web  1475.44        425.30   \n",
      "4 2022-09-17     TST* FACES BREWING COMPAN   -46.99        378.31   \n",
      "\n",
      "       Category  \n",
      "0  Food & Drink  \n",
      "1  Food & Drink  \n",
      "2        Travel  \n",
      "3           NaN  \n",
      "4  Food & Drink  \n",
      "Empty DataFrame\n",
      "Columns: [Date, Description, Amount, Running Bal., Category]\n",
      "Index: []\n"
     ]
    },
    {
     "data": {
      "text/html": [
       "<div>\n",
       "<style scoped>\n",
       "    .dataframe tbody tr th:only-of-type {\n",
       "        vertical-align: middle;\n",
       "    }\n",
       "\n",
       "    .dataframe tbody tr th {\n",
       "        vertical-align: top;\n",
       "    }\n",
       "\n",
       "    .dataframe thead th {\n",
       "        text-align: right;\n",
       "    }\n",
       "</style>\n",
       "<table border=\"1\" class=\"dataframe\">\n",
       "  <thead>\n",
       "    <tr style=\"text-align: right;\">\n",
       "      <th></th>\n",
       "      <th>Date</th>\n",
       "      <th>Description</th>\n",
       "      <th>Amount</th>\n",
       "      <th>Running Bal.</th>\n",
       "      <th>Category</th>\n",
       "    </tr>\n",
       "  </thead>\n",
       "  <tbody>\n",
       "    <tr>\n",
       "      <th>0</th>\n",
       "      <td>2022-09-29</td>\n",
       "      <td>TST* HARRY'S BAR &amp;amp; GRILL</td>\n",
       "      <td>-32.49</td>\n",
       "      <td>-32.49</td>\n",
       "      <td>Food &amp; Drink</td>\n",
       "    </tr>\n",
       "    <tr>\n",
       "      <th>1</th>\n",
       "      <td>2022-09-27</td>\n",
       "      <td>SQ *TOTTO RAMEN ASSEMBLY</td>\n",
       "      <td>-70.62</td>\n",
       "      <td>-103.11</td>\n",
       "      <td>Food &amp; Drink</td>\n",
       "    </tr>\n",
       "    <tr>\n",
       "      <th>2</th>\n",
       "      <td>2022-09-25</td>\n",
       "      <td>AIRBNB  HMC5DRBKTF</td>\n",
       "      <td>-947.03</td>\n",
       "      <td>-1050.14</td>\n",
       "      <td>Travel</td>\n",
       "    </tr>\n",
       "    <tr>\n",
       "      <th>3</th>\n",
       "      <td>2022-09-18</td>\n",
       "      <td>Payment Thank You - Web</td>\n",
       "      <td>1475.44</td>\n",
       "      <td>425.30</td>\n",
       "      <td>NaN</td>\n",
       "    </tr>\n",
       "    <tr>\n",
       "      <th>4</th>\n",
       "      <td>2022-09-17</td>\n",
       "      <td>TST* FACES BREWING COMPAN</td>\n",
       "      <td>-46.99</td>\n",
       "      <td>378.31</td>\n",
       "      <td>Food &amp; Drink</td>\n",
       "    </tr>\n",
       "  </tbody>\n",
       "</table>\n",
       "</div>"
      ],
      "text/plain": [
       "        Date                   Description   Amount  Running Bal.  \\\n",
       "0 2022-09-29  TST* HARRY'S BAR &amp; GRILL   -32.49        -32.49   \n",
       "1 2022-09-27      SQ *TOTTO RAMEN ASSEMBLY   -70.62       -103.11   \n",
       "2 2022-09-25            AIRBNB  HMC5DRBKTF  -947.03      -1050.14   \n",
       "3 2022-09-18       Payment Thank You - Web  1475.44        425.30   \n",
       "4 2022-09-17     TST* FACES BREWING COMPAN   -46.99        378.31   \n",
       "\n",
       "       Category  \n",
       "0  Food & Drink  \n",
       "1  Food & Drink  \n",
       "2        Travel  \n",
       "3           NaN  \n",
       "4  Food & Drink  "
      ]
     },
     "execution_count": 6,
     "metadata": {},
     "output_type": "execute_result"
    }
   ],
   "source": [
    "# This should be the path to the file of your untouched BOA statement\n",
    "# filepath = \"/home/jvarela/Documents/financial/stmt.csv\"\n",
    "# filepath = \"sample.csv\"\n",
    "# filepath = \"sample_statements/BofA_debit.csv\"\n",
    "filepath = \"sample_statements/Chase6491_Activity20220101_20221001_20221001.CSV\"\n",
    "\n",
    "from analasisAPI.fileLoader import isBoaDebitFile, isChaseFile\n",
    "\n",
    "dataFrame = LoadFile(filepath)\n",
    "print(dataFrame.head())\n",
    "\n",
    "regexDF = filterDataFrameByRegex(dataFrame,\"uber\")\n",
    "print(regexDF)\n",
    "\n",
    "range1filter = filterDataFrameByDate(dataFrame,[datetime.datetime(2021,12,2),datetime.datetime(2022,12,22)])\n",
    "range1filter.head()\n"
   ]
  },
  {
   "cell_type": "markdown",
   "metadata": {},
   "source": [
    "## Classification"
   ]
  },
  {
   "cell_type": "code",
   "execution_count": 10,
   "metadata": {},
   "outputs": [
    {
     "data": {
      "text/html": [
       "<div>\n",
       "<style scoped>\n",
       "    .dataframe tbody tr th:only-of-type {\n",
       "        vertical-align: middle;\n",
       "    }\n",
       "\n",
       "    .dataframe tbody tr th {\n",
       "        vertical-align: top;\n",
       "    }\n",
       "\n",
       "    .dataframe thead th {\n",
       "        text-align: right;\n",
       "    }\n",
       "</style>\n",
       "<table border=\"1\" class=\"dataframe\">\n",
       "  <thead>\n",
       "    <tr style=\"text-align: right;\">\n",
       "      <th></th>\n",
       "      <th>Date</th>\n",
       "      <th>Description</th>\n",
       "      <th>Amount</th>\n",
       "      <th>Category</th>\n",
       "      <th>class</th>\n",
       "    </tr>\n",
       "  </thead>\n",
       "  <tbody>\n",
       "    <tr>\n",
       "      <th>0</th>\n",
       "      <td>2022-09-29</td>\n",
       "      <td>TST* HARRY'S BAR &amp;amp; GRILL</td>\n",
       "      <td>-32.49</td>\n",
       "      <td>Food &amp; Drink</td>\n",
       "      <td>unknown</td>\n",
       "    </tr>\n",
       "    <tr>\n",
       "      <th>1</th>\n",
       "      <td>2022-09-27</td>\n",
       "      <td>SQ *TOTTO RAMEN ASSEMBLY</td>\n",
       "      <td>-70.62</td>\n",
       "      <td>Food &amp; Drink</td>\n",
       "      <td>unknown</td>\n",
       "    </tr>\n",
       "    <tr>\n",
       "      <th>2</th>\n",
       "      <td>2022-09-25</td>\n",
       "      <td>AIRBNB  HMC5DRBKTF</td>\n",
       "      <td>-947.03</td>\n",
       "      <td>Travel</td>\n",
       "      <td>unknown</td>\n",
       "    </tr>\n",
       "    <tr>\n",
       "      <th>4</th>\n",
       "      <td>2022-09-17</td>\n",
       "      <td>TST* FACES BREWING COMPAN</td>\n",
       "      <td>-46.99</td>\n",
       "      <td>Food &amp; Drink</td>\n",
       "      <td>unknown</td>\n",
       "    </tr>\n",
       "    <tr>\n",
       "      <th>5</th>\n",
       "      <td>2022-09-15</td>\n",
       "      <td>TST* Cambridge Brewing Co</td>\n",
       "      <td>-40.01</td>\n",
       "      <td>Food &amp; Drink</td>\n",
       "      <td>unknown</td>\n",
       "    </tr>\n",
       "  </tbody>\n",
       "</table>\n",
       "</div>"
      ],
      "text/plain": [
       "        Date                   Description  Amount      Category    class\n",
       "0 2022-09-29  TST* HARRY'S BAR &amp; GRILL  -32.49  Food & Drink  unknown\n",
       "1 2022-09-27      SQ *TOTTO RAMEN ASSEMBLY  -70.62  Food & Drink  unknown\n",
       "2 2022-09-25            AIRBNB  HMC5DRBKTF -947.03        Travel  unknown\n",
       "4 2022-09-17     TST* FACES BREWING COMPAN  -46.99  Food & Drink  unknown\n",
       "5 2022-09-15     TST* Cambridge Brewing Co  -40.01  Food & Drink  unknown"
      ]
     },
     "execution_count": 10,
     "metadata": {},
     "output_type": "execute_result"
    }
   ],
   "source": [
    "max_expense = 10000.0 # max expense to analyze\n",
    "expenses_only = dataFrame[dataFrame['Amount'] < 0] # get only expenses\n",
    "small_expenses = filterDataFrameByAmount(expenses_only,[-max_expense,0.0]).copy()\n",
    "\n",
    "classified_df = classify_statement_from_rule_set(small_expenses)\n",
    "\n",
    "classified_df.drop(columns=[\"Running Bal.\"], inplace=True, errors=\"ignore\")\n",
    "\n",
    "classified_df = classified_df.drop_duplicates()\n",
    "\n",
    "classified_df.to_csv(\"training_data.csv\",index=False)\n",
    "classified_df.head()"
   ]
  },
  {
   "cell_type": "markdown",
   "metadata": {},
   "source": [
    "## Analysis"
   ]
  },
  {
   "cell_type": "code",
   "execution_count": 13,
   "metadata": {},
   "outputs": [
    {
     "data": {
      "image/png": "[encoded data removed]",
      "text/plain": [
       "<Figure size 432x288 with 1 Axes>"
      ]
     },
     "metadata": {},
     "output_type": "display_data"
    }
   ],
   "source": [
    "# Pi chart\n",
    "classification_pi_chart(classified_df)\n"
   ]
  },
  {
   "cell_type": "code",
   "execution_count": 15,
   "metadata": {},
   "outputs": [
    {
     "name": "stdout",
     "output_type": "stream",
     "text": [
      "        Date                   Description  Amount      Category    class\n",
      "0 2022-09-29  TST* HARRY'S BAR &amp; GRILL  -32.49  Food & Drink  unknown\n",
      "1 2022-09-27      SQ *TOTTO RAMEN ASSEMBLY  -70.62  Food & Drink  unknown\n",
      "4 2022-09-17     TST* FACES BREWING COMPAN  -46.99  Food & Drink  unknown\n",
      "5 2022-09-15     TST* Cambridge Brewing Co  -40.01  Food & Drink  unknown\n",
      "6 2022-09-13        BEST BUY MHT  00005967  -29.99      Shopping  unknown\n"
     ]
    },
    {
     "data": {
      "text/plain": [
       "<BarContainer object of 7 artists>"
      ]
     },
     "execution_count": 15,
     "metadata": {},
     "output_type": "execute_result"
    },
    {
     "data": {
      "image/png": "[encoded data removed]",
      "text/plain": [
       "<Figure size 432x288 with 1 Axes>"
      ]
     },
     "metadata": {
      "needs_background": "light"
     },
     "output_type": "display_data"
    }
   ],
   "source": [
    "# Weekday binning\n",
    "max_expense = 250.0 # max expense to analyze\n",
    "expenses_only = classified_df[classified_df['Amount'] < 0] # get only expenses\n",
    "small_expenses = filterDataFrameByAmount(expenses_only,[-max_expense,0.0])\n",
    "print(small_expenses.head())\n",
    "\n",
    "# Note zero is monday\n",
    "week_df = small_expenses.groupby(small_expenses['Date'].dt.dayofweek)['Amount'].sum()\n",
    "day_of_week_names = {0:'Monday',1:'Tuesday',2:'Wednesday',3:'Thursday',4:'Friday',5:'Saturday',6:'Sunday'}\n",
    "days = []\n",
    "spent_on_day = []\n",
    "for day in week_df.keys():\n",
    "    days.append(day_of_week_names[day])\n",
    "    spent_on_day.append(-week_df[day])\n",
    "total_spent = sum(spent_on_day)\n",
    "spent_on_day = [val/total_spent for val in spent_on_day]\n",
    "plt.bar(days, spent_on_day, color ='maroon',\n",
    "        width = 0.4)\n",
    "# I think I'm missing the weekend expenses as I always pay with my credit card on weekends?"
   ]
  },
  {
   "cell_type": "code",
   "execution_count": null,
   "metadata": {},
   "outputs": [],
   "source": []
  },
  {
   "cell_type": "code",
   "execution_count": null,
   "metadata": {},
   "outputs": [],
   "source": []
  }
 ],
 "metadata": {
  "kernelspec": {
   "display_name": "Python 3.8.13 64-bit",
   "language": "python",
   "name": "python3"
  },
  "language_info": {
   "codemirror_mode": {
    "name": "ipython",
    "version": 3
   },
   "file_extension": ".py",
   "mimetype": "text/x-python",
   "name": "python",
   "nbconvert_exporter": "python",
   "pygments_lexer": "ipython3",
   "version": "3.8.13"
  },
  "orig_nbformat": 4,
  "vscode": {
   "interpreter": {
    "hash": "05b84a9b65a6b002129c0ca442178b8ed16dbf1bbd7405677fdcc15a7a28968c"
   }
  }
 },
 "nbformat": 4,
 "nbformat_minor": 2
}
